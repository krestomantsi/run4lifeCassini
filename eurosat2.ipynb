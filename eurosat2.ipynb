{
 "cells": [
  {
   "cell_type": "code",
   "execution_count": 1,
   "id": "b1419dff",
   "metadata": {
    "ExecuteTime": {
     "end_time": "2021-06-23T13:52:55.288542Z",
     "start_time": "2021-06-23T13:51:28.401445Z"
    }
   },
   "outputs": [
    {
     "name": "stdout",
     "output_type": "stream",
     "text": [
      "INFO:tensorflow:Mixed precision compatibility check (mixed_float16): OK\n",
      "Your GPU will likely run quickly with dtype policy mixed_float16 as it has compute capability of at least 7.0. Your GPU: GeForce RTX 2060 SUPER, compute capability 7.5\n",
      "1 Physical GPUs, 1 Logical GPUs\n",
      "\u001b[1mDownloading and preparing dataset eurosat (?? GiB) to eurosatdump/eurosat/rgb/0.0.1...\u001b[0m\n"
     ]
    },
    {
     "data": {
      "application/vnd.jupyter.widget-view+json": {
       "model_id": "cbb773e6b4d44442ba49d0528d4eeb2a",
       "version_major": 2,
       "version_minor": 0
      },
      "text/plain": [
       "Dl Completed...: 0 url [00:00, ? url/s]"
      ]
     },
     "metadata": {},
     "output_type": "display_data"
    },
    {
     "data": {
      "application/vnd.jupyter.widget-view+json": {
       "model_id": "b042557e99d14122acd92f1a03423a18",
       "version_major": 2,
       "version_minor": 0
      },
      "text/plain": [
       "Dl Size...: 0 MiB [00:00, ? MiB/s]"
      ]
     },
     "metadata": {},
     "output_type": "display_data"
    },
    {
     "data": {
      "application/vnd.jupyter.widget-view+json": {
       "model_id": "d9b7c2b935aa4a08aa3f1810de77626a",
       "version_major": 2,
       "version_minor": 0
      },
      "text/plain": [
       "Extraction completed...: 0 file [00:00, ? file/s]"
      ]
     },
     "metadata": {},
     "output_type": "display_data"
    },
    {
     "name": "stdout",
     "output_type": "stream",
     "text": [
      "\n",
      "\n",
      "\n"
     ]
    },
    {
     "data": {
      "application/vnd.jupyter.widget-view+json": {
       "model_id": "",
       "version_major": 2,
       "version_minor": 0
      },
      "text/plain": [
       "0 examples [00:00, ? examples/s]"
      ]
     },
     "metadata": {},
     "output_type": "display_data"
    },
    {
     "data": {
      "application/vnd.jupyter.widget-view+json": {
       "model_id": "",
       "version_major": 2,
       "version_minor": 0
      },
      "text/plain": [
       "Shuffling...:   0%|          | 0/1 [00:00<?, ? shard/s]"
      ]
     },
     "metadata": {},
     "output_type": "display_data"
    },
    {
     "name": "stdout",
     "output_type": "stream",
     "text": [
      "WARNING:tensorflow:From /home/nick/anaconda3/envs/tf-gpu/lib/python3.9/site-packages/tensorflow_datasets/core/file_format_adapter.py:209: tf_record_iterator (from tensorflow.python.lib.io.tf_record) is deprecated and will be removed in a future version.\n",
      "Instructions for updating:\n",
      "Use eager execution and: \n",
      "`tf.data.TFRecordDataset(path)`\n"
     ]
    },
    {
     "name": "stderr",
     "output_type": "stream",
     "text": [
      "WARNING:tensorflow:From /home/nick/anaconda3/envs/tf-gpu/lib/python3.9/site-packages/tensorflow_datasets/core/file_format_adapter.py:209: tf_record_iterator (from tensorflow.python.lib.io.tf_record) is deprecated and will be removed in a future version.\n",
      "Instructions for updating:\n",
      "Use eager execution and: \n",
      "`tf.data.TFRecordDataset(path)`\n"
     ]
    },
    {
     "data": {
      "application/vnd.jupyter.widget-view+json": {
       "model_id": "",
       "version_major": 2,
       "version_minor": 0
      },
      "text/plain": [
       "Reading...: 0 examples [00:00, ? examples/s]"
      ]
     },
     "metadata": {},
     "output_type": "display_data"
    },
    {
     "data": {
      "application/vnd.jupyter.widget-view+json": {
       "model_id": "",
       "version_major": 2,
       "version_minor": 0
      },
      "text/plain": [
       "Writing...:   0%|          | 0/27000 [00:00<?, ? examples/s]"
      ]
     },
     "metadata": {},
     "output_type": "display_data"
    },
    {
     "data": {
      "application/vnd.jupyter.widget-view+json": {
       "model_id": "681e654a95c84ebf8b02bdf968814181",
       "version_major": 2,
       "version_minor": 0
      },
      "text/plain": [
       "Computing statistics...:   0%|          | 0/1 [00:00<?, ? split/s]"
      ]
     },
     "metadata": {},
     "output_type": "display_data"
    },
    {
     "name": "stderr",
     "output_type": "stream",
     "text": [
      "WARNING:absl:Warning: Setting shuffle_files=True because split=TRAIN and shuffle_files=None. This behavior will be deprecated on 2019-08-06, at which point shuffle_files=False will be the default for all splits.\n",
      "WARNING:absl:Statistics not present in the dataset. TFDS is not able to load the total number of examples, so using the subsplit API may not provide precise subsplits.\n"
     ]
    },
    {
     "data": {
      "application/vnd.jupyter.widget-view+json": {
       "model_id": "",
       "version_major": 2,
       "version_minor": 0
      },
      "text/plain": [
       "0 examples [00:00, ? examples/s]"
      ]
     },
     "metadata": {},
     "output_type": "display_data"
    },
    {
     "name": "stderr",
     "output_type": "stream",
     "text": [
      "WARNING:absl:Warning: Setting shuffle_files=True because split=TRAIN and shuffle_files=None. This behavior will be deprecated on 2019-08-06, at which point shuffle_files=False will be the default for all splits.\n"
     ]
    },
    {
     "name": "stdout",
     "output_type": "stream",
     "text": [
      "\u001b[1mDataset eurosat downloaded and prepared to eurosatdump/eurosat/rgb/0.0.1. Subsequent calls will reuse this data.\u001b[0m\n"
     ]
    }
   ],
   "source": [
    "import tensorflow as tf\n",
    "import tensorflow_datasets as tfds\n",
    "# from tf.keras.\n",
    "\n",
    "### mixed precision Rtcores ###\n",
    "from tensorflow.keras import mixed_precision\n",
    "policy = mixed_precision.Policy('mixed_float16')\n",
    "mixed_precision.set_global_policy(policy)\n",
    "###\n",
    "gpus = tf.config.experimental.list_physical_devices('GPU')\n",
    "if gpus:\n",
    "    try:\n",
    "        # Currently, memory growth needs to be the same across GPUs\n",
    "        for gpu in gpus:\n",
    "            tf.config.experimental.set_memory_growth(gpu, True)\n",
    "        logical_gpus = tf.config.experimental.list_logical_devices('GPU')\n",
    "        print(len(gpus), \"Physical GPUs,\", len(logical_gpus), \"Logical GPUs\")\n",
    "    except RuntimeError as e:\n",
    "        # Memory growth must be set before GPUs have been initialized\n",
    "        print(e)\n",
    "else:\n",
    "    print('Not gpu found !!!')\n",
    "\n",
    "\n",
    "\n",
    "DATA_DIR = 'eurosatdump'\n",
    "BATCH_SIZE = 128\n",
    "AUTO = tf.data.experimental.AUTOTUNE\n",
    "ds, ds_info = tfds.load('eurosat/rgb',\n",
    "                        with_info=True,\n",
    "                        split='train',\n",
    "                        data_dir=DATA_DIR)\n",
    "\n",
    "SHUFFLE_BUFFER = int(ds_info.splits['train'].num_examples * 0.8)\n",
    "\n",
    "ds_train, ds_valid = tfds.load('eurosat/rgb',\n",
    "                                split=[\n",
    "tfds.Split.TRAIN.subsplit(tfds.percent[:80]),\n",
    "tfds.Split.TRAIN.subsplit(tfds.percent[80:])],\n",
    "data_dir=DATA_DIR,\n",
    "as_supervised=True)\n",
    "\n",
    "\n",
    "\n",
    "def preprocess(image, label):\n",
    "    image = tf.image.convert_image_dtype(image, dtype=tf.float32)\n",
    "    \n",
    "#     image = tf.image.random_flip_left_right(image)\n",
    "#     image = tf.image.random_flip_up_down(image)\n",
    "#     image = tf.image.random_brightness(image, max_delta=0.08)\n",
    "#     image = tf.image.random_saturation(image, lower=0.95, upper=1.05)\n",
    "#     image = tf.image.random_contrast(image, lower=0.95, upper=1.05)\n",
    "    return image, label\n",
    "\n",
    "ds_train = (ds_train\n",
    "            .map(preprocess, AUTO)\n",
    "            .cache()\n",
    "            .shuffle(SHUFFLE_BUFFER)\n",
    "            .repeat()\n",
    "            # Augmentations go here .map(augment, AUTO)\n",
    "            .batch(BATCH_SIZE, drop_remainder=True)\n",
    "            .prefetch(AUTO))\n",
    "\n",
    "ds_valid = (ds_valid\n",
    "            .map(preprocess, AUTO)\n",
    "            .cache()\n",
    "            .batch(BATCH_SIZE)\n",
    "            .prefetch(AUTO))"
   ]
  },
  {
   "cell_type": "code",
   "execution_count": 2,
   "id": "c86848e0",
   "metadata": {
    "ExecuteTime": {
     "end_time": "2021-06-23T07:02:12.247793Z",
     "start_time": "2021-06-23T07:02:12.204340Z"
    }
   },
   "outputs": [],
   "source": [
    "import tensorflow.keras as keras\n",
    "import tensorflow.keras.layers as layers\n",
    "from tensorflow.keras import regularizers\n",
    "\n",
    "NUM_CLASSES = ds_info.features['label'].num_classes\n",
    "acti ='selu'\n",
    "model = keras.Sequential([\n",
    "    \n",
    "    layers.BatchNormalization(),\n",
    "    layers.Conv2D(filters=16, kernel_size=5, padding='same', activation=acti),\n",
    "    layers.MaxPool2D(),\n",
    "    \n",
    "    layers.BatchNormalization(),\n",
    "    layers.Conv2D(32, 3, padding='same', activation=acti),\n",
    "    layers.Conv2D(32, 3, padding='same', activation=acti),\n",
    "    layers.MaxPool2D(),\n",
    "    \n",
    "    layers.BatchNormalization(),\n",
    "    layers.Conv2D(64, 3, padding='same', activation=acti),\n",
    "    layers.Conv2D(64, 3, padding='same', activation=acti),\n",
    "    layers.MaxPool2D(),\n",
    "    \n",
    "    layers.BatchNormalization(),\n",
    "    layers.Conv2D(128, 3, padding='same', activation=acti),\n",
    "    layers.Conv2D(128, 3, padding='same', activation=acti),\n",
    "    layers.MaxPool2D(),\n",
    "    \n",
    "    \n",
    "    layers.Flatten(),\n",
    "    layers.Dense(128, activation=acti,kernel_regularizer=regularizers.L2(0.001),kernel_initializer='lecun_normal'),\n",
    "    layers.AlphaDropout(0.5),\n",
    "    layers.Dense(128, activation=acti,kernel_regularizer=regularizers.L2(0.001),kernel_initializer='lecun_normal'),\n",
    "    layers.AlphaDropout(0.5),\n",
    "    layers.Dense(128, activation=acti,kernel_regularizer=regularizers.L2(0.001),kernel_initializer='lecun_normal'),\n",
    "    layers.AlphaDropout(0.5),\n",
    "    layers.Dense(128, activation=acti,kernel_regularizer=regularizers.L2(0.001),kernel_initializer='lecun_normal'),\n",
    "    layers.AlphaDropout(0.5),\n",
    "    layers.Dense(NUM_CLASSES, activation='softmax',dtype='float32')\n",
    "])\n",
    "\n"
   ]
  },
  {
   "cell_type": "code",
   "execution_count": 3,
   "id": "bf15e695",
   "metadata": {
    "ExecuteTime": {
     "end_time": "2021-06-23T07:17:13.497590Z",
     "start_time": "2021-06-23T07:02:12.250105Z"
    }
   },
   "outputs": [
    {
     "name": "stdout",
     "output_type": "stream",
     "text": [
      "Epoch 1/200\n",
      "168/168 [==============================] - 21s 55ms/step - loss: 2.8533 - sparse_categorical_accuracy: 0.2252 - val_loss: 11.1669 - val_sparse_categorical_accuracy: 0.2922\n",
      "Epoch 2/200\n",
      "168/168 [==============================] - 4s 26ms/step - loss: 1.7839 - sparse_categorical_accuracy: 0.4929 - val_loss: 9.8983 - val_sparse_categorical_accuracy: 0.5359\n",
      "Epoch 3/200\n",
      "168/168 [==============================] - 4s 26ms/step - loss: 1.3770 - sparse_categorical_accuracy: 0.6392 - val_loss: 6.8742 - val_sparse_categorical_accuracy: 0.6613\n",
      "Epoch 4/200\n",
      "168/168 [==============================] - 4s 26ms/step - loss: 1.1878 - sparse_categorical_accuracy: 0.7055 - val_loss: 3.3397 - val_sparse_categorical_accuracy: 0.7563\n",
      "Epoch 5/200\n",
      "168/168 [==============================] - 4s 26ms/step - loss: 1.0450 - sparse_categorical_accuracy: 0.7391 - val_loss: 4.0042 - val_sparse_categorical_accuracy: 0.7848\n",
      "Epoch 6/200\n",
      "168/168 [==============================] - 4s 26ms/step - loss: 0.9498 - sparse_categorical_accuracy: 0.7714 - val_loss: 4.3651 - val_sparse_categorical_accuracy: 0.8024\n",
      "Epoch 7/200\n",
      "168/168 [==============================] - 4s 26ms/step - loss: 0.8155 - sparse_categorical_accuracy: 0.8121 - val_loss: 3.0629 - val_sparse_categorical_accuracy: 0.8389\n",
      "Epoch 8/200\n",
      "168/168 [==============================] - 4s 26ms/step - loss: 0.7795 - sparse_categorical_accuracy: 0.8242 - val_loss: 5.7742 - val_sparse_categorical_accuracy: 0.8078\n",
      "Epoch 9/200\n",
      "168/168 [==============================] - 4s 26ms/step - loss: 0.7087 - sparse_categorical_accuracy: 0.8458 - val_loss: 3.6819 - val_sparse_categorical_accuracy: 0.8456\n",
      "Epoch 10/200\n",
      "168/168 [==============================] - 4s 26ms/step - loss: 0.6473 - sparse_categorical_accuracy: 0.8632 - val_loss: 3.0917 - val_sparse_categorical_accuracy: 0.8706\n",
      "Epoch 11/200\n",
      "168/168 [==============================] - 4s 26ms/step - loss: 0.5699 - sparse_categorical_accuracy: 0.8875 - val_loss: 2.6175 - val_sparse_categorical_accuracy: 0.8935\n",
      "Epoch 12/200\n",
      "168/168 [==============================] - 4s 26ms/step - loss: 0.5438 - sparse_categorical_accuracy: 0.8944 - val_loss: 3.4150 - val_sparse_categorical_accuracy: 0.8767\n",
      "Epoch 13/200\n",
      "168/168 [==============================] - 4s 26ms/step - loss: 0.5152 - sparse_categorical_accuracy: 0.8974 - val_loss: 3.7386 - val_sparse_categorical_accuracy: 0.8737\n",
      "Epoch 14/200\n",
      "168/168 [==============================] - 4s 26ms/step - loss: 0.4843 - sparse_categorical_accuracy: 0.9076 - val_loss: 3.0203 - val_sparse_categorical_accuracy: 0.8959\n",
      "Epoch 15/200\n",
      "168/168 [==============================] - 4s 26ms/step - loss: 0.4764 - sparse_categorical_accuracy: 0.9079 - val_loss: 3.2073 - val_sparse_categorical_accuracy: 0.9074\n",
      "Epoch 16/200\n",
      "168/168 [==============================] - 4s 26ms/step - loss: 0.4167 - sparse_categorical_accuracy: 0.9268 - val_loss: 4.4667 - val_sparse_categorical_accuracy: 0.8731\n",
      "Epoch 17/200\n",
      "168/168 [==============================] - 4s 26ms/step - loss: 0.4239 - sparse_categorical_accuracy: 0.9242 - val_loss: 3.2733 - val_sparse_categorical_accuracy: 0.8998\n",
      "Epoch 18/200\n",
      "168/168 [==============================] - 4s 26ms/step - loss: 0.4121 - sparse_categorical_accuracy: 0.9270 - val_loss: 2.7851 - val_sparse_categorical_accuracy: 0.9180\n",
      "Epoch 19/200\n",
      "168/168 [==============================] - 4s 26ms/step - loss: 0.3896 - sparse_categorical_accuracy: 0.9319 - val_loss: 2.6460 - val_sparse_categorical_accuracy: 0.9263\n",
      "Epoch 20/200\n",
      "168/168 [==============================] - 4s 26ms/step - loss: 0.3528 - sparse_categorical_accuracy: 0.9399 - val_loss: 2.6135 - val_sparse_categorical_accuracy: 0.9204\n",
      "Epoch 21/200\n",
      "168/168 [==============================] - 4s 26ms/step - loss: 0.3499 - sparse_categorical_accuracy: 0.9419 - val_loss: 2.3326 - val_sparse_categorical_accuracy: 0.9307\n",
      "Epoch 22/200\n",
      "168/168 [==============================] - 4s 26ms/step - loss: 0.3131 - sparse_categorical_accuracy: 0.9503 - val_loss: 3.5042 - val_sparse_categorical_accuracy: 0.9004\n",
      "Epoch 23/200\n",
      "168/168 [==============================] - 4s 26ms/step - loss: 0.3329 - sparse_categorical_accuracy: 0.9457 - val_loss: 2.6651 - val_sparse_categorical_accuracy: 0.9250\n",
      "Epoch 24/200\n",
      "168/168 [==============================] - 4s 26ms/step - loss: 0.3207 - sparse_categorical_accuracy: 0.9477 - val_loss: 2.6530 - val_sparse_categorical_accuracy: 0.9356\n",
      "Epoch 25/200\n",
      "168/168 [==============================] - 4s 26ms/step - loss: 0.3165 - sparse_categorical_accuracy: 0.9532 - val_loss: 2.2494 - val_sparse_categorical_accuracy: 0.9344\n",
      "Epoch 26/200\n",
      "168/168 [==============================] - 4s 26ms/step - loss: 0.2928 - sparse_categorical_accuracy: 0.9583 - val_loss: 2.4562 - val_sparse_categorical_accuracy: 0.9367\n",
      "Epoch 27/200\n",
      "168/168 [==============================] - 4s 26ms/step - loss: 0.2841 - sparse_categorical_accuracy: 0.9603 - val_loss: 3.8497 - val_sparse_categorical_accuracy: 0.9109\n",
      "Epoch 28/200\n",
      "168/168 [==============================] - 4s 26ms/step - loss: 0.2884 - sparse_categorical_accuracy: 0.9591 - val_loss: 2.2630 - val_sparse_categorical_accuracy: 0.9369\n",
      "Epoch 29/200\n",
      "168/168 [==============================] - 4s 26ms/step - loss: 0.2744 - sparse_categorical_accuracy: 0.9630 - val_loss: 2.4467 - val_sparse_categorical_accuracy: 0.9463\n",
      "Epoch 30/200\n",
      "168/168 [==============================] - 4s 27ms/step - loss: 0.2837 - sparse_categorical_accuracy: 0.9626 - val_loss: 2.5415 - val_sparse_categorical_accuracy: 0.9394\n",
      "Epoch 31/200\n",
      "168/168 [==============================] - 4s 26ms/step - loss: 0.2558 - sparse_categorical_accuracy: 0.9651 - val_loss: 3.3041 - val_sparse_categorical_accuracy: 0.9352\n",
      "Epoch 32/200\n",
      "168/168 [==============================] - 4s 27ms/step - loss: 0.2753 - sparse_categorical_accuracy: 0.9618 - val_loss: 2.6846 - val_sparse_categorical_accuracy: 0.9307\n",
      "Epoch 33/200\n",
      "168/168 [==============================] - 4s 27ms/step - loss: 0.2483 - sparse_categorical_accuracy: 0.9689 - val_loss: 3.2426 - val_sparse_categorical_accuracy: 0.9376\n",
      "Epoch 34/200\n",
      "168/168 [==============================] - 4s 27ms/step - loss: 0.2406 - sparse_categorical_accuracy: 0.9710 - val_loss: 3.1925 - val_sparse_categorical_accuracy: 0.9281\n",
      "Epoch 35/200\n",
      "168/168 [==============================] - 4s 27ms/step - loss: 0.2344 - sparse_categorical_accuracy: 0.9721 - val_loss: 2.6527 - val_sparse_categorical_accuracy: 0.9419\n",
      "Epoch 36/200\n",
      "168/168 [==============================] - 4s 26ms/step - loss: 0.2645 - sparse_categorical_accuracy: 0.9670 - val_loss: 5.8770 - val_sparse_categorical_accuracy: 0.8944\n",
      "Epoch 37/200\n",
      "168/168 [==============================] - 4s 27ms/step - loss: 0.2356 - sparse_categorical_accuracy: 0.9721 - val_loss: 3.0767 - val_sparse_categorical_accuracy: 0.9287\n",
      "Epoch 38/200\n",
      "168/168 [==============================] - 4s 27ms/step - loss: 0.2400 - sparse_categorical_accuracy: 0.9721 - val_loss: 3.8789 - val_sparse_categorical_accuracy: 0.9157\n",
      "Epoch 39/200\n",
      "168/168 [==============================] - 5s 27ms/step - loss: 0.2404 - sparse_categorical_accuracy: 0.9702 - val_loss: 2.6127 - val_sparse_categorical_accuracy: 0.9509\n",
      "Epoch 40/200\n",
      "168/168 [==============================] - 4s 27ms/step - loss: 0.2282 - sparse_categorical_accuracy: 0.9760 - val_loss: 2.2456 - val_sparse_categorical_accuracy: 0.9522\n",
      "Epoch 41/200\n",
      "168/168 [==============================] - 4s 27ms/step - loss: 0.2066 - sparse_categorical_accuracy: 0.9799 - val_loss: 2.8082 - val_sparse_categorical_accuracy: 0.9485\n",
      "Epoch 42/200\n",
      "168/168 [==============================] - 4s 26ms/step - loss: 0.1825 - sparse_categorical_accuracy: 0.9851 - val_loss: 3.5012 - val_sparse_categorical_accuracy: 0.9352\n",
      "Epoch 43/200\n",
      "168/168 [==============================] - 4s 27ms/step - loss: 0.2402 - sparse_categorical_accuracy: 0.9705 - val_loss: 2.6311 - val_sparse_categorical_accuracy: 0.9517\n",
      "Epoch 44/200\n",
      "168/168 [==============================] - 4s 27ms/step - loss: 0.2198 - sparse_categorical_accuracy: 0.9760 - val_loss: 2.5277 - val_sparse_categorical_accuracy: 0.9446\n",
      "Epoch 45/200\n",
      "168/168 [==============================] - 4s 27ms/step - loss: 0.1930 - sparse_categorical_accuracy: 0.9821 - val_loss: 2.9290 - val_sparse_categorical_accuracy: 0.9426\n"
     ]
    },
    {
     "name": "stdout",
     "output_type": "stream",
     "text": [
      "Epoch 46/200\n",
      "168/168 [==============================] - 4s 27ms/step - loss: 0.2239 - sparse_categorical_accuracy: 0.9764 - val_loss: 4.1439 - val_sparse_categorical_accuracy: 0.9231\n",
      "Epoch 47/200\n",
      "168/168 [==============================] - 4s 26ms/step - loss: 0.2125 - sparse_categorical_accuracy: 0.9784 - val_loss: 2.9239 - val_sparse_categorical_accuracy: 0.9483\n",
      "Epoch 48/200\n",
      "168/168 [==============================] - 4s 27ms/step - loss: 0.1899 - sparse_categorical_accuracy: 0.9843 - val_loss: 3.1369 - val_sparse_categorical_accuracy: 0.9456\n",
      "Epoch 49/200\n",
      "168/168 [==============================] - 4s 27ms/step - loss: 0.1831 - sparse_categorical_accuracy: 0.9843 - val_loss: 3.9853 - val_sparse_categorical_accuracy: 0.9356\n",
      "Epoch 50/200\n",
      "168/168 [==============================] - 4s 27ms/step - loss: 0.1914 - sparse_categorical_accuracy: 0.9827 - val_loss: 3.6161 - val_sparse_categorical_accuracy: 0.9391\n",
      "Epoch 51/200\n",
      "168/168 [==============================] - 4s 27ms/step - loss: 0.1977 - sparse_categorical_accuracy: 0.9812 - val_loss: 3.1051 - val_sparse_categorical_accuracy: 0.9381\n",
      "Epoch 52/200\n",
      "168/168 [==============================] - 4s 27ms/step - loss: 0.1953 - sparse_categorical_accuracy: 0.9812 - val_loss: 4.4330 - val_sparse_categorical_accuracy: 0.9333\n",
      "Epoch 53/200\n",
      "168/168 [==============================] - 4s 27ms/step - loss: 0.1932 - sparse_categorical_accuracy: 0.9821 - val_loss: 2.9226 - val_sparse_categorical_accuracy: 0.9448\n",
      "Epoch 54/200\n",
      "168/168 [==============================] - 4s 27ms/step - loss: 0.1737 - sparse_categorical_accuracy: 0.9862 - val_loss: 4.1080 - val_sparse_categorical_accuracy: 0.9331\n",
      "Epoch 55/200\n",
      "168/168 [==============================] - 4s 27ms/step - loss: 0.2045 - sparse_categorical_accuracy: 0.9801 - val_loss: 3.0315 - val_sparse_categorical_accuracy: 0.9485\n",
      "Epoch 56/200\n",
      "168/168 [==============================] - 4s 27ms/step - loss: 0.1702 - sparse_categorical_accuracy: 0.9874 - val_loss: 4.0485 - val_sparse_categorical_accuracy: 0.9374\n",
      "Epoch 57/200\n",
      "168/168 [==============================] - 4s 27ms/step - loss: 0.1826 - sparse_categorical_accuracy: 0.9843 - val_loss: 3.4368 - val_sparse_categorical_accuracy: 0.9404\n",
      "Epoch 58/200\n",
      "168/168 [==============================] - 4s 27ms/step - loss: 0.1872 - sparse_categorical_accuracy: 0.9824 - val_loss: 2.6035 - val_sparse_categorical_accuracy: 0.9478\n",
      "Epoch 59/200\n",
      "168/168 [==============================] - 4s 26ms/step - loss: 0.2026 - sparse_categorical_accuracy: 0.9792 - val_loss: 2.7552 - val_sparse_categorical_accuracy: 0.9509\n",
      "Epoch 60/200\n",
      "168/168 [==============================] - 4s 27ms/step - loss: 0.1801 - sparse_categorical_accuracy: 0.9858 - val_loss: 3.2566 - val_sparse_categorical_accuracy: 0.9443\n",
      "Epoch 61/200\n",
      "168/168 [==============================] - 4s 27ms/step - loss: 0.1657 - sparse_categorical_accuracy: 0.9880 - val_loss: 3.6048 - val_sparse_categorical_accuracy: 0.9439\n",
      "Epoch 62/200\n",
      "168/168 [==============================] - 5s 27ms/step - loss: 0.1727 - sparse_categorical_accuracy: 0.9853 - val_loss: 4.4925 - val_sparse_categorical_accuracy: 0.9374\n",
      "Epoch 63/200\n",
      "168/168 [==============================] - 4s 27ms/step - loss: 0.1746 - sparse_categorical_accuracy: 0.9869 - val_loss: 3.1323 - val_sparse_categorical_accuracy: 0.9457\n",
      "Epoch 64/200\n",
      "168/168 [==============================] - 4s 27ms/step - loss: 0.1695 - sparse_categorical_accuracy: 0.9858 - val_loss: 4.6212 - val_sparse_categorical_accuracy: 0.9381\n",
      "Epoch 65/200\n",
      "168/168 [==============================] - 4s 27ms/step - loss: 0.1816 - sparse_categorical_accuracy: 0.9835 - val_loss: 3.3989 - val_sparse_categorical_accuracy: 0.9480\n",
      "Epoch 66/200\n",
      "168/168 [==============================] - 4s 27ms/step - loss: 0.1672 - sparse_categorical_accuracy: 0.9867 - val_loss: 3.1398 - val_sparse_categorical_accuracy: 0.9491\n",
      "Epoch 67/200\n",
      "168/168 [==============================] - 4s 27ms/step - loss: 0.1564 - sparse_categorical_accuracy: 0.9886 - val_loss: 3.0832 - val_sparse_categorical_accuracy: 0.9417\n",
      "Epoch 68/200\n",
      "168/168 [==============================] - 5s 27ms/step - loss: 0.1741 - sparse_categorical_accuracy: 0.9859 - val_loss: 3.2361 - val_sparse_categorical_accuracy: 0.9481\n",
      "Epoch 69/200\n",
      "168/168 [==============================] - 4s 27ms/step - loss: 0.1593 - sparse_categorical_accuracy: 0.9875 - val_loss: 3.0108 - val_sparse_categorical_accuracy: 0.9493\n",
      "Epoch 70/200\n",
      "168/168 [==============================] - 4s 27ms/step - loss: 0.1630 - sparse_categorical_accuracy: 0.9869 - val_loss: 4.8398 - val_sparse_categorical_accuracy: 0.9315\n",
      "Epoch 71/200\n",
      "168/168 [==============================] - 5s 27ms/step - loss: 0.1715 - sparse_categorical_accuracy: 0.9869 - val_loss: 2.9194 - val_sparse_categorical_accuracy: 0.9544\n",
      "Epoch 72/200\n",
      "168/168 [==============================] - 5s 27ms/step - loss: 0.1538 - sparse_categorical_accuracy: 0.9899 - val_loss: 3.0553 - val_sparse_categorical_accuracy: 0.9463\n",
      "Epoch 73/200\n",
      "168/168 [==============================] - 4s 27ms/step - loss: 0.1414 - sparse_categorical_accuracy: 0.9903 - val_loss: 3.7430 - val_sparse_categorical_accuracy: 0.9278\n",
      "Epoch 74/200\n",
      "168/168 [==============================] - 4s 27ms/step - loss: 0.1609 - sparse_categorical_accuracy: 0.9889 - val_loss: 3.3298 - val_sparse_categorical_accuracy: 0.9459\n",
      "Epoch 75/200\n",
      "168/168 [==============================] - 4s 27ms/step - loss: 0.1745 - sparse_categorical_accuracy: 0.9844 - val_loss: 3.9635 - val_sparse_categorical_accuracy: 0.9435\n",
      "Epoch 76/200\n",
      "168/168 [==============================] - 4s 27ms/step - loss: 0.1461 - sparse_categorical_accuracy: 0.9901 - val_loss: 3.0892 - val_sparse_categorical_accuracy: 0.9530\n",
      "Epoch 77/200\n",
      "168/168 [==============================] - 4s 27ms/step - loss: 0.1406 - sparse_categorical_accuracy: 0.9910 - val_loss: 3.1458 - val_sparse_categorical_accuracy: 0.9509\n",
      "Epoch 78/200\n",
      "168/168 [==============================] - 5s 27ms/step - loss: 0.1326 - sparse_categorical_accuracy: 0.9922 - val_loss: 4.0404 - val_sparse_categorical_accuracy: 0.9411\n",
      "Epoch 79/200\n",
      "168/168 [==============================] - 5s 27ms/step - loss: 0.1709 - sparse_categorical_accuracy: 0.9844 - val_loss: 3.2801 - val_sparse_categorical_accuracy: 0.9472\n",
      "Epoch 80/200\n",
      "168/168 [==============================] - 5s 27ms/step - loss: 0.1895 - sparse_categorical_accuracy: 0.9823 - val_loss: 5.8911 - val_sparse_categorical_accuracy: 0.9289\n",
      "Epoch 81/200\n",
      "168/168 [==============================] - 4s 27ms/step - loss: 0.1591 - sparse_categorical_accuracy: 0.9897 - val_loss: 3.0033 - val_sparse_categorical_accuracy: 0.9515\n",
      "Epoch 82/200\n",
      "168/168 [==============================] - 4s 27ms/step - loss: 0.1330 - sparse_categorical_accuracy: 0.9929 - val_loss: 4.0371 - val_sparse_categorical_accuracy: 0.9407\n",
      "Epoch 83/200\n",
      "168/168 [==============================] - 5s 27ms/step - loss: 0.1413 - sparse_categorical_accuracy: 0.9896 - val_loss: 3.2737 - val_sparse_categorical_accuracy: 0.9494\n",
      "Epoch 84/200\n",
      "168/168 [==============================] - 4s 27ms/step - loss: 0.1436 - sparse_categorical_accuracy: 0.9904 - val_loss: 3.8826 - val_sparse_categorical_accuracy: 0.9487\n",
      "Epoch 85/200\n",
      "168/168 [==============================] - 5s 27ms/step - loss: 0.1508 - sparse_categorical_accuracy: 0.9894 - val_loss: 3.2921 - val_sparse_categorical_accuracy: 0.9494\n",
      "Epoch 86/200\n",
      "168/168 [==============================] - 4s 27ms/step - loss: 0.1567 - sparse_categorical_accuracy: 0.9879 - val_loss: 4.0571 - val_sparse_categorical_accuracy: 0.9396\n",
      "Epoch 87/200\n",
      "168/168 [==============================] - 5s 27ms/step - loss: 0.1530 - sparse_categorical_accuracy: 0.9899 - val_loss: 3.9697 - val_sparse_categorical_accuracy: 0.9413\n",
      "Epoch 88/200\n",
      "168/168 [==============================] - 4s 27ms/step - loss: 0.1622 - sparse_categorical_accuracy: 0.9890 - val_loss: 3.8251 - val_sparse_categorical_accuracy: 0.9520\n",
      "Epoch 89/200\n",
      "168/168 [==============================] - 4s 27ms/step - loss: 0.1273 - sparse_categorical_accuracy: 0.9938 - val_loss: 3.3379 - val_sparse_categorical_accuracy: 0.9526\n",
      "Epoch 90/200\n",
      "168/168 [==============================] - 4s 27ms/step - loss: 0.1378 - sparse_categorical_accuracy: 0.9914 - val_loss: 3.2608 - val_sparse_categorical_accuracy: 0.9515\n"
     ]
    },
    {
     "name": "stdout",
     "output_type": "stream",
     "text": [
      "Epoch 91/200\n",
      "168/168 [==============================] - 5s 27ms/step - loss: 0.1301 - sparse_categorical_accuracy: 0.9919 - val_loss: 3.8867 - val_sparse_categorical_accuracy: 0.9435\n",
      "Epoch 92/200\n",
      "168/168 [==============================] - 4s 27ms/step - loss: 0.1589 - sparse_categorical_accuracy: 0.9876 - val_loss: 3.4713 - val_sparse_categorical_accuracy: 0.9404\n",
      "Epoch 93/200\n",
      "168/168 [==============================] - 4s 27ms/step - loss: 0.1495 - sparse_categorical_accuracy: 0.9904 - val_loss: 4.1132 - val_sparse_categorical_accuracy: 0.9509\n",
      "Epoch 94/200\n",
      "168/168 [==============================] - 5s 27ms/step - loss: 0.1249 - sparse_categorical_accuracy: 0.9926 - val_loss: 3.6595 - val_sparse_categorical_accuracy: 0.9470\n",
      "Epoch 95/200\n",
      "168/168 [==============================] - 5s 27ms/step - loss: 0.1664 - sparse_categorical_accuracy: 0.9848 - val_loss: 3.5855 - val_sparse_categorical_accuracy: 0.9526\n",
      "Epoch 96/200\n",
      "168/168 [==============================] - 5s 27ms/step - loss: 0.1400 - sparse_categorical_accuracy: 0.9920 - val_loss: 3.3426 - val_sparse_categorical_accuracy: 0.9561\n",
      "Epoch 97/200\n",
      "168/168 [==============================] - 5s 27ms/step - loss: 0.1396 - sparse_categorical_accuracy: 0.9914 - val_loss: 4.5196 - val_sparse_categorical_accuracy: 0.9454\n",
      "Epoch 98/200\n",
      "168/168 [==============================] - 5s 27ms/step - loss: 0.1232 - sparse_categorical_accuracy: 0.9923 - val_loss: 4.3985 - val_sparse_categorical_accuracy: 0.9400\n",
      "Epoch 99/200\n",
      "168/168 [==============================] - 4s 26ms/step - loss: 0.1553 - sparse_categorical_accuracy: 0.9882 - val_loss: 3.7255 - val_sparse_categorical_accuracy: 0.9491\n",
      "Epoch 100/200\n",
      "168/168 [==============================] - 4s 26ms/step - loss: 0.1632 - sparse_categorical_accuracy: 0.9877 - val_loss: 5.7238 - val_sparse_categorical_accuracy: 0.9311\n",
      "Epoch 101/200\n",
      "168/168 [==============================] - 5s 27ms/step - loss: 0.1613 - sparse_categorical_accuracy: 0.9871 - val_loss: 3.2851 - val_sparse_categorical_accuracy: 0.9517\n",
      "Epoch 102/200\n",
      "168/168 [==============================] - 5s 27ms/step - loss: 0.1544 - sparse_categorical_accuracy: 0.9895 - val_loss: 4.1525 - val_sparse_categorical_accuracy: 0.9506\n",
      "Epoch 103/200\n",
      "168/168 [==============================] - 5s 27ms/step - loss: 0.1381 - sparse_categorical_accuracy: 0.9919 - val_loss: 4.0759 - val_sparse_categorical_accuracy: 0.9461\n",
      "Epoch 104/200\n",
      "168/168 [==============================] - 5s 27ms/step - loss: 0.1353 - sparse_categorical_accuracy: 0.9910 - val_loss: 2.8653 - val_sparse_categorical_accuracy: 0.9589\n",
      "Epoch 105/200\n",
      "168/168 [==============================] - 5s 27ms/step - loss: 0.1160 - sparse_categorical_accuracy: 0.9934 - val_loss: 3.2397 - val_sparse_categorical_accuracy: 0.9580\n",
      "Epoch 106/200\n",
      "168/168 [==============================] - 5s 28ms/step - loss: 0.1232 - sparse_categorical_accuracy: 0.9929 - val_loss: 3.3769 - val_sparse_categorical_accuracy: 0.9539\n",
      "Epoch 107/200\n",
      "168/168 [==============================] - 5s 28ms/step - loss: 0.1257 - sparse_categorical_accuracy: 0.9935 - val_loss: 3.1090 - val_sparse_categorical_accuracy: 0.9522\n",
      "Epoch 108/200\n",
      "168/168 [==============================] - 5s 28ms/step - loss: 0.1240 - sparse_categorical_accuracy: 0.9925 - val_loss: 4.9427 - val_sparse_categorical_accuracy: 0.9398\n",
      "Epoch 109/200\n",
      "168/168 [==============================] - 5s 27ms/step - loss: 0.1379 - sparse_categorical_accuracy: 0.9903 - val_loss: 3.6268 - val_sparse_categorical_accuracy: 0.9481\n",
      "Epoch 110/200\n",
      "168/168 [==============================] - 5s 27ms/step - loss: 0.1364 - sparse_categorical_accuracy: 0.9918 - val_loss: 3.8651 - val_sparse_categorical_accuracy: 0.9524\n",
      "Epoch 111/200\n",
      "168/168 [==============================] - 5s 27ms/step - loss: 0.1402 - sparse_categorical_accuracy: 0.9915 - val_loss: 3.5151 - val_sparse_categorical_accuracy: 0.9520\n",
      "Epoch 112/200\n",
      "168/168 [==============================] - 4s 26ms/step - loss: 0.1362 - sparse_categorical_accuracy: 0.9907 - val_loss: 4.1114 - val_sparse_categorical_accuracy: 0.9426\n",
      "Epoch 113/200\n",
      "168/168 [==============================] - 4s 26ms/step - loss: 0.1268 - sparse_categorical_accuracy: 0.9935 - val_loss: 3.1484 - val_sparse_categorical_accuracy: 0.9526\n",
      "Epoch 114/200\n",
      "168/168 [==============================] - 5s 28ms/step - loss: 0.1239 - sparse_categorical_accuracy: 0.9927 - val_loss: 3.5514 - val_sparse_categorical_accuracy: 0.9509\n",
      "Epoch 115/200\n",
      "168/168 [==============================] - 4s 27ms/step - loss: 0.1197 - sparse_categorical_accuracy: 0.9932 - val_loss: 3.2806 - val_sparse_categorical_accuracy: 0.9502\n",
      "Epoch 116/200\n",
      "168/168 [==============================] - 5s 28ms/step - loss: 0.1266 - sparse_categorical_accuracy: 0.9928 - val_loss: 4.8113 - val_sparse_categorical_accuracy: 0.9431\n",
      "Epoch 117/200\n",
      "168/168 [==============================] - 4s 26ms/step - loss: 0.1361 - sparse_categorical_accuracy: 0.9921 - val_loss: 5.2377 - val_sparse_categorical_accuracy: 0.9409\n",
      "Epoch 118/200\n",
      "168/168 [==============================] - 5s 27ms/step - loss: 0.1410 - sparse_categorical_accuracy: 0.9907 - val_loss: 3.0458 - val_sparse_categorical_accuracy: 0.9550\n",
      "Epoch 119/200\n",
      "168/168 [==============================] - 5s 27ms/step - loss: 0.1304 - sparse_categorical_accuracy: 0.9918 - val_loss: 3.7953 - val_sparse_categorical_accuracy: 0.9550\n",
      "Epoch 120/200\n",
      "168/168 [==============================] - 5s 27ms/step - loss: 0.1119 - sparse_categorical_accuracy: 0.9946 - val_loss: 4.9699 - val_sparse_categorical_accuracy: 0.9461\n",
      "Epoch 121/200\n",
      "168/168 [==============================] - 4s 27ms/step - loss: 0.1165 - sparse_categorical_accuracy: 0.9940 - val_loss: 5.8796 - val_sparse_categorical_accuracy: 0.9315\n",
      "Epoch 122/200\n",
      "168/168 [==============================] - 4s 27ms/step - loss: 0.1418 - sparse_categorical_accuracy: 0.9893 - val_loss: 3.7840 - val_sparse_categorical_accuracy: 0.9507\n",
      "Epoch 123/200\n",
      "168/168 [==============================] - 4s 27ms/step - loss: 0.1329 - sparse_categorical_accuracy: 0.9926 - val_loss: 4.1513 - val_sparse_categorical_accuracy: 0.9487\n",
      "Epoch 124/200\n",
      "168/168 [==============================] - 4s 27ms/step - loss: 0.1223 - sparse_categorical_accuracy: 0.9939 - val_loss: 3.4065 - val_sparse_categorical_accuracy: 0.9565\n",
      "Epoch 125/200\n",
      "168/168 [==============================] - 4s 27ms/step - loss: 0.1068 - sparse_categorical_accuracy: 0.9953 - val_loss: 5.5606 - val_sparse_categorical_accuracy: 0.9402\n",
      "Epoch 126/200\n",
      "168/168 [==============================] - 4s 27ms/step - loss: 0.1175 - sparse_categorical_accuracy: 0.9917 - val_loss: 3.9462 - val_sparse_categorical_accuracy: 0.9570\n",
      "Epoch 127/200\n",
      "168/168 [==============================] - 4s 27ms/step - loss: 0.1190 - sparse_categorical_accuracy: 0.9923 - val_loss: 3.4962 - val_sparse_categorical_accuracy: 0.9554\n",
      "Epoch 128/200\n",
      "168/168 [==============================] - 4s 27ms/step - loss: 0.1333 - sparse_categorical_accuracy: 0.9914 - val_loss: 4.0991 - val_sparse_categorical_accuracy: 0.9472\n",
      "Epoch 129/200\n",
      "168/168 [==============================] - 4s 27ms/step - loss: 0.1243 - sparse_categorical_accuracy: 0.9940 - val_loss: 5.3252 - val_sparse_categorical_accuracy: 0.9448\n",
      "Epoch 130/200\n",
      "168/168 [==============================] - 4s 27ms/step - loss: 0.1276 - sparse_categorical_accuracy: 0.9931 - val_loss: 5.2147 - val_sparse_categorical_accuracy: 0.9441\n",
      "Epoch 131/200\n",
      "168/168 [==============================] - 4s 26ms/step - loss: 0.1207 - sparse_categorical_accuracy: 0.9938 - val_loss: 5.2820 - val_sparse_categorical_accuracy: 0.9387\n",
      "Epoch 132/200\n",
      "168/168 [==============================] - 4s 27ms/step - loss: 0.1202 - sparse_categorical_accuracy: 0.9922 - val_loss: 3.3616 - val_sparse_categorical_accuracy: 0.9583\n",
      "Epoch 133/200\n",
      "168/168 [==============================] - 4s 27ms/step - loss: 0.1033 - sparse_categorical_accuracy: 0.9959 - val_loss: 4.3039 - val_sparse_categorical_accuracy: 0.9530\n",
      "Epoch 134/200\n",
      "168/168 [==============================] - 4s 27ms/step - loss: 0.1223 - sparse_categorical_accuracy: 0.9907 - val_loss: 4.0915 - val_sparse_categorical_accuracy: 0.9552\n",
      "Epoch 135/200\n",
      "168/168 [==============================] - 4s 27ms/step - loss: 0.1353 - sparse_categorical_accuracy: 0.9925 - val_loss: 4.5832 - val_sparse_categorical_accuracy: 0.9457\n",
      "Epoch 136/200\n",
      "168/168 [==============================] - 4s 27ms/step - loss: 0.1179 - sparse_categorical_accuracy: 0.9952 - val_loss: 3.6303 - val_sparse_categorical_accuracy: 0.9543\n",
      "Epoch 137/200\n",
      "168/168 [==============================] - 4s 27ms/step - loss: 0.1147 - sparse_categorical_accuracy: 0.9932 - val_loss: 6.0807 - val_sparse_categorical_accuracy: 0.9317\n",
      "Epoch 138/200\n",
      "168/168 [==============================] - 4s 27ms/step - loss: 0.1092 - sparse_categorical_accuracy: 0.9939 - val_loss: 4.0044 - val_sparse_categorical_accuracy: 0.9531\n",
      "Epoch 139/200\n",
      "168/168 [==============================] - 4s 27ms/step - loss: 0.1146 - sparse_categorical_accuracy: 0.9942 - val_loss: 4.5001 - val_sparse_categorical_accuracy: 0.9493\n",
      "Epoch 140/200\n",
      "168/168 [==============================] - 4s 27ms/step - loss: 0.1193 - sparse_categorical_accuracy: 0.9930 - val_loss: 4.2702 - val_sparse_categorical_accuracy: 0.9528\n",
      "Epoch 141/200\n",
      "168/168 [==============================] - 4s 27ms/step - loss: 0.1097 - sparse_categorical_accuracy: 0.9950 - val_loss: 3.7002 - val_sparse_categorical_accuracy: 0.9567\n",
      "Epoch 142/200\n",
      "168/168 [==============================] - 5s 27ms/step - loss: 0.1068 - sparse_categorical_accuracy: 0.9945 - val_loss: 4.3849 - val_sparse_categorical_accuracy: 0.9480\n",
      "Epoch 143/200\n",
      "168/168 [==============================] - 4s 27ms/step - loss: 0.1291 - sparse_categorical_accuracy: 0.9906 - val_loss: 4.9698 - val_sparse_categorical_accuracy: 0.9433\n",
      "Epoch 144/200\n",
      "168/168 [==============================] - 4s 27ms/step - loss: 0.1326 - sparse_categorical_accuracy: 0.9930 - val_loss: 3.6138 - val_sparse_categorical_accuracy: 0.9569\n",
      "Epoch 145/200\n",
      "168/168 [==============================] - 5s 27ms/step - loss: 0.1217 - sparse_categorical_accuracy: 0.9931 - val_loss: 4.3568 - val_sparse_categorical_accuracy: 0.9452\n",
      "Epoch 146/200\n",
      "168/168 [==============================] - 4s 27ms/step - loss: 0.1313 - sparse_categorical_accuracy: 0.9936 - val_loss: 3.5027 - val_sparse_categorical_accuracy: 0.9552\n",
      "Epoch 147/200\n",
      "168/168 [==============================] - 4s 26ms/step - loss: 0.1108 - sparse_categorical_accuracy: 0.9955 - val_loss: 3.6247 - val_sparse_categorical_accuracy: 0.9554\n",
      "Epoch 148/200\n",
      "168/168 [==============================] - 4s 25ms/step - loss: 0.1014 - sparse_categorical_accuracy: 0.9949 - val_loss: 6.2328 - val_sparse_categorical_accuracy: 0.9326\n",
      "Epoch 149/200\n",
      "168/168 [==============================] - 4s 24ms/step - loss: 0.1144 - sparse_categorical_accuracy: 0.9930 - val_loss: 4.3009 - val_sparse_categorical_accuracy: 0.9550\n",
      "Epoch 150/200\n",
      "168/168 [==============================] - 4s 25ms/step - loss: 0.1050 - sparse_categorical_accuracy: 0.9941 - val_loss: 4.1825 - val_sparse_categorical_accuracy: 0.9543\n",
      "Epoch 151/200\n",
      "168/168 [==============================] - 4s 25ms/step - loss: 0.1161 - sparse_categorical_accuracy: 0.9933 - val_loss: 5.2961 - val_sparse_categorical_accuracy: 0.9424\n",
      "Epoch 152/200\n",
      "168/168 [==============================] - 4s 26ms/step - loss: 0.1313 - sparse_categorical_accuracy: 0.9908 - val_loss: 4.2249 - val_sparse_categorical_accuracy: 0.9520\n",
      "Epoch 153/200\n",
      "168/168 [==============================] - 4s 26ms/step - loss: 0.1081 - sparse_categorical_accuracy: 0.9963 - val_loss: 3.6760 - val_sparse_categorical_accuracy: 0.9517\n",
      "Epoch 154/200\n",
      "168/168 [==============================] - 4s 25ms/step - loss: 0.1120 - sparse_categorical_accuracy: 0.9946 - val_loss: 4.3213 - val_sparse_categorical_accuracy: 0.9567\n",
      "Epoch 155/200\n",
      "168/168 [==============================] - 4s 25ms/step - loss: 0.0950 - sparse_categorical_accuracy: 0.9965 - val_loss: 3.7043 - val_sparse_categorical_accuracy: 0.9585\n",
      "Epoch 156/200\n",
      "168/168 [==============================] - 4s 25ms/step - loss: 0.1106 - sparse_categorical_accuracy: 0.9928 - val_loss: 6.3677 - val_sparse_categorical_accuracy: 0.9298\n",
      "Epoch 157/200\n",
      "168/168 [==============================] - 4s 25ms/step - loss: 0.1235 - sparse_categorical_accuracy: 0.9932 - val_loss: 3.7428 - val_sparse_categorical_accuracy: 0.9524\n",
      "Epoch 158/200\n",
      "168/168 [==============================] - 4s 25ms/step - loss: 0.1084 - sparse_categorical_accuracy: 0.9956 - val_loss: 4.9049 - val_sparse_categorical_accuracy: 0.9433\n",
      "Epoch 159/200\n",
      "168/168 [==============================] - 4s 25ms/step - loss: 0.1303 - sparse_categorical_accuracy: 0.9925 - val_loss: 4.6093 - val_sparse_categorical_accuracy: 0.9450\n",
      "Epoch 160/200\n",
      "168/168 [==============================] - 4s 25ms/step - loss: 0.1207 - sparse_categorical_accuracy: 0.9932 - val_loss: 4.2910 - val_sparse_categorical_accuracy: 0.9511\n",
      "Epoch 161/200\n",
      "168/168 [==============================] - 4s 25ms/step - loss: 0.1266 - sparse_categorical_accuracy: 0.9919 - val_loss: 5.7656 - val_sparse_categorical_accuracy: 0.9363\n",
      "Epoch 162/200\n",
      "168/168 [==============================] - 4s 25ms/step - loss: 0.1071 - sparse_categorical_accuracy: 0.9951 - val_loss: 4.1960 - val_sparse_categorical_accuracy: 0.9498\n",
      "Epoch 163/200\n",
      "168/168 [==============================] - 4s 25ms/step - loss: 0.1004 - sparse_categorical_accuracy: 0.9951 - val_loss: 5.2433 - val_sparse_categorical_accuracy: 0.9446\n",
      "Epoch 164/200\n",
      "168/168 [==============================] - 4s 25ms/step - loss: 0.0891 - sparse_categorical_accuracy: 0.9967 - val_loss: 4.6567 - val_sparse_categorical_accuracy: 0.9461\n",
      "Epoch 165/200\n",
      "168/168 [==============================] - 4s 25ms/step - loss: 0.1059 - sparse_categorical_accuracy: 0.9934 - val_loss: 6.0296 - val_sparse_categorical_accuracy: 0.9437\n",
      "Epoch 166/200\n",
      "168/168 [==============================] - 4s 25ms/step - loss: 0.1242 - sparse_categorical_accuracy: 0.9916 - val_loss: 5.7340 - val_sparse_categorical_accuracy: 0.9496\n",
      "Epoch 167/200\n",
      "168/168 [==============================] - 4s 25ms/step - loss: 0.1163 - sparse_categorical_accuracy: 0.9939 - val_loss: 4.5429 - val_sparse_categorical_accuracy: 0.9517\n",
      "Epoch 168/200\n",
      "168/168 [==============================] - 4s 25ms/step - loss: 0.1044 - sparse_categorical_accuracy: 0.9954 - val_loss: 4.0043 - val_sparse_categorical_accuracy: 0.9559\n",
      "Epoch 169/200\n",
      "168/168 [==============================] - 4s 25ms/step - loss: 0.0948 - sparse_categorical_accuracy: 0.9970 - val_loss: 5.5430 - val_sparse_categorical_accuracy: 0.9517\n",
      "Epoch 170/200\n",
      "168/168 [==============================] - 4s 26ms/step - loss: 0.1072 - sparse_categorical_accuracy: 0.9945 - val_loss: 5.4256 - val_sparse_categorical_accuracy: 0.9441\n",
      "Epoch 171/200\n",
      "168/168 [==============================] - 4s 26ms/step - loss: 0.1038 - sparse_categorical_accuracy: 0.9952 - val_loss: 4.3104 - val_sparse_categorical_accuracy: 0.9493\n",
      "Epoch 172/200\n",
      "168/168 [==============================] - 4s 25ms/step - loss: 0.1570 - sparse_categorical_accuracy: 0.9884 - val_loss: 4.9180 - val_sparse_categorical_accuracy: 0.9493\n",
      "Epoch 173/200\n",
      "168/168 [==============================] - 4s 26ms/step - loss: 0.1194 - sparse_categorical_accuracy: 0.9950 - val_loss: 4.4815 - val_sparse_categorical_accuracy: 0.9544\n",
      "Epoch 174/200\n",
      "168/168 [==============================] - 5s 27ms/step - loss: 0.1072 - sparse_categorical_accuracy: 0.9944 - val_loss: 5.1065 - val_sparse_categorical_accuracy: 0.9513\n",
      "Epoch 175/200\n",
      "168/168 [==============================] - 4s 27ms/step - loss: 0.1082 - sparse_categorical_accuracy: 0.9944 - val_loss: 4.0450 - val_sparse_categorical_accuracy: 0.9559\n",
      "Epoch 176/200\n",
      "168/168 [==============================] - 5s 27ms/step - loss: 0.0934 - sparse_categorical_accuracy: 0.9967 - val_loss: 4.4442 - val_sparse_categorical_accuracy: 0.9541\n",
      "Epoch 177/200\n",
      "168/168 [==============================] - 4s 26ms/step - loss: 0.1070 - sparse_categorical_accuracy: 0.9934 - val_loss: 5.0556 - val_sparse_categorical_accuracy: 0.9502\n",
      "Epoch 178/200\n",
      "168/168 [==============================] - 4s 26ms/step - loss: 0.1032 - sparse_categorical_accuracy: 0.9954 - val_loss: 5.0188 - val_sparse_categorical_accuracy: 0.9526\n",
      "Epoch 179/200\n"
     ]
    },
    {
     "name": "stdout",
     "output_type": "stream",
     "text": [
      "168/168 [==============================] - 4s 25ms/step - loss: 0.1065 - sparse_categorical_accuracy: 0.9946 - val_loss: 4.1597 - val_sparse_categorical_accuracy: 0.9519\n",
      "Epoch 180/200\n",
      "168/168 [==============================] - 4s 26ms/step - loss: 0.1165 - sparse_categorical_accuracy: 0.9929 - val_loss: 3.9561 - val_sparse_categorical_accuracy: 0.9570\n",
      "Epoch 181/200\n",
      "168/168 [==============================] - 5s 27ms/step - loss: 0.1110 - sparse_categorical_accuracy: 0.9934 - val_loss: 4.8111 - val_sparse_categorical_accuracy: 0.9483\n",
      "Epoch 182/200\n",
      "168/168 [==============================] - 5s 27ms/step - loss: 0.0963 - sparse_categorical_accuracy: 0.9958 - val_loss: 4.6078 - val_sparse_categorical_accuracy: 0.9546\n",
      "Epoch 183/200\n",
      "168/168 [==============================] - 4s 26ms/step - loss: 0.0995 - sparse_categorical_accuracy: 0.9952 - val_loss: 4.9544 - val_sparse_categorical_accuracy: 0.9533\n",
      "Epoch 184/200\n",
      "168/168 [==============================] - 4s 26ms/step - loss: 0.0992 - sparse_categorical_accuracy: 0.9941 - val_loss: 4.3949 - val_sparse_categorical_accuracy: 0.9539\n",
      "Epoch 185/200\n",
      "168/168 [==============================] - 4s 27ms/step - loss: 0.1210 - sparse_categorical_accuracy: 0.9935 - val_loss: 4.6643 - val_sparse_categorical_accuracy: 0.9528\n",
      "Epoch 186/200\n",
      "168/168 [==============================] - 5s 27ms/step - loss: 0.1114 - sparse_categorical_accuracy: 0.9952 - val_loss: 4.6827 - val_sparse_categorical_accuracy: 0.9476\n",
      "Epoch 187/200\n",
      "168/168 [==============================] - 4s 25ms/step - loss: 0.1062 - sparse_categorical_accuracy: 0.9946 - val_loss: 3.6284 - val_sparse_categorical_accuracy: 0.9552\n",
      "Epoch 188/200\n",
      "168/168 [==============================] - 4s 25ms/step - loss: 0.1082 - sparse_categorical_accuracy: 0.9943 - val_loss: 3.3596 - val_sparse_categorical_accuracy: 0.9548\n",
      "Epoch 189/200\n",
      "168/168 [==============================] - 4s 25ms/step - loss: 0.1003 - sparse_categorical_accuracy: 0.9955 - val_loss: 3.9441 - val_sparse_categorical_accuracy: 0.9578\n",
      "Epoch 190/200\n",
      "168/168 [==============================] - 4s 25ms/step - loss: 0.0909 - sparse_categorical_accuracy: 0.9960 - val_loss: 4.6605 - val_sparse_categorical_accuracy: 0.9461\n",
      "Epoch 191/200\n",
      "168/168 [==============================] - 4s 25ms/step - loss: 0.1188 - sparse_categorical_accuracy: 0.9931 - val_loss: 4.2183 - val_sparse_categorical_accuracy: 0.9556\n",
      "Epoch 192/200\n",
      "168/168 [==============================] - 4s 25ms/step - loss: 0.1039 - sparse_categorical_accuracy: 0.9969 - val_loss: 4.0896 - val_sparse_categorical_accuracy: 0.9513\n",
      "Epoch 193/200\n",
      "168/168 [==============================] - 4s 26ms/step - loss: 0.1085 - sparse_categorical_accuracy: 0.9957 - val_loss: 5.3766 - val_sparse_categorical_accuracy: 0.9433\n",
      "Epoch 194/200\n",
      "168/168 [==============================] - 4s 26ms/step - loss: 0.1065 - sparse_categorical_accuracy: 0.9943 - val_loss: 5.1721 - val_sparse_categorical_accuracy: 0.9481\n",
      "Epoch 195/200\n",
      "168/168 [==============================] - 5s 27ms/step - loss: 0.0861 - sparse_categorical_accuracy: 0.9976 - val_loss: 4.2322 - val_sparse_categorical_accuracy: 0.9554\n",
      "Epoch 196/200\n",
      "168/168 [==============================] - 5s 27ms/step - loss: 0.0821 - sparse_categorical_accuracy: 0.9973 - val_loss: 4.3819 - val_sparse_categorical_accuracy: 0.9522\n",
      "Epoch 197/200\n",
      "168/168 [==============================] - 4s 27ms/step - loss: 0.0856 - sparse_categorical_accuracy: 0.9958 - val_loss: 4.1287 - val_sparse_categorical_accuracy: 0.9559\n",
      "Epoch 198/200\n",
      "168/168 [==============================] - 4s 26ms/step - loss: 0.0864 - sparse_categorical_accuracy: 0.9962 - val_loss: 6.1889 - val_sparse_categorical_accuracy: 0.9491\n",
      "Epoch 199/200\n",
      "168/168 [==============================] - 4s 25ms/step - loss: 0.0968 - sparse_categorical_accuracy: 0.9934 - val_loss: 10.6448 - val_sparse_categorical_accuracy: 0.9209\n",
      "Epoch 200/200\n",
      "168/168 [==============================] - 4s 25ms/step - loss: 0.1259 - sparse_categorical_accuracy: 0.9913 - val_loss: 10.4127 - val_sparse_categorical_accuracy: 0.9220\n"
     ]
    }
   ],
   "source": [
    "lr = 1e-3\n",
    "model.compile(\n",
    "    optimizer=tf.keras.optimizers.Adam(lr),\n",
    "    loss='sparse_categorical_crossentropy',\n",
    "    metrics=['sparse_categorical_accuracy'],\n",
    ")\n",
    "\n",
    "EPOCHS = 200\n",
    "STEPS_PER_EPOCH = int(ds_info.splits['train'].num_examples * 0.8) // BATCH_SIZE #0.7\n",
    "\n",
    "early_stopping = tf.keras.callbacks.EarlyStopping(patience=7, min_delta=0.001, restore_best_weights=True)\n",
    "\n",
    "history = model.fit(\n",
    "    ds_train,\n",
    "    validation_data=ds_valid,\n",
    "    epochs=EPOCHS,\n",
    "    steps_per_epoch=STEPS_PER_EPOCH)#,callcallbacks=[early_stopping])\n",
    "\n",
    "\n",
    "model.summary()"
   ]
  },
  {
   "cell_type": "code",
   "execution_count": 4,
   "id": "f0d34760",
   "metadata": {
    "ExecuteTime": {
     "end_time": "2021-06-23T07:17:14.079409Z",
     "start_time": "2021-06-23T07:17:13.499677Z"
    }
   },
   "outputs": [
    {
     "data": {
      "text/plain": [
       "<AxesSubplot:>"
      ]
     },
     "execution_count": 4,
     "metadata": {},
     "output_type": "execute_result"
    },
    {
     "data": {
      "image/png": "[encoded data removed]",
      "text/plain": [
       "<Figure size 432x288 with 1 Axes>"
      ]
     },
     "metadata": {
      "needs_background": "light"
     },
     "output_type": "display_data"
    }
   ],
   "source": [
    "import pandas as pd\n",
    "\n",
    "pd.DataFrame(\n",
    "    history.history\n",
    ").plot()"
   ]
  },
  {
   "cell_type": "code",
   "execution_count": null,
   "id": "87eeaf27",
   "metadata": {},
   "outputs": [],
   "source": [
    "model.save('Trained_eurosat')"
   ]
  }
 ],
 "metadata": {
  "kernelspec": {
   "display_name": "Python 3",
   "language": "python",
   "name": "python3"
  },
  "language_info": {
   "codemirror_mode": {
    "name": "ipython",
    "version": 3
   },
   "file_extension": ".py",
   "mimetype": "text/x-python",
   "name": "python",
   "nbconvert_exporter": "python",
   "pygments_lexer": "ipython3",
   "version": "3.9.5"
  },
  "varInspector": {
   "cols": {
    "lenName": 16,
    "lenType": 16,
    "lenVar": 40
   },
   "kernels_config": {
    "python": {
     "delete_cmd_postfix": "",
     "delete_cmd_prefix": "del ",
     "library": "var_list.py",
     "varRefreshCmd": "print(var_dic_list())"
    },
    "r": {
     "delete_cmd_postfix": ") ",
     "delete_cmd_prefix": "rm(",
     "library": "var_list.r",
     "varRefreshCmd": "cat(var_dic_list()) "
    }
   },
   "types_to_exclude": [
    "module",
    "function",
    "builtin_function_or_method",
    "instance",
    "_Feature"
   ],
   "window_display": false
  }
 },
 "nbformat": 4,
 "nbformat_minor": 5
}
